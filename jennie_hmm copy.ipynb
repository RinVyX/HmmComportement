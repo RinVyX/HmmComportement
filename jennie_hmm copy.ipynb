{
 "cells": [
  {
   "cell_type": "code",
   "execution_count": 1,
   "metadata": {},
   "outputs": [],
   "source": [
    "import numpy as np\n",
    "import pandas as pd\n",
    "import matplotlib.pyplot as plt\n",
    "from hmmlearn import hmm, vhmm\n",
    "import joblib\n",
    "import seaborn as sns\n",
    "import networkx as nx\n",
    "import pprint as pprint"
   ]
  },
  {
   "cell_type": "markdown",
   "metadata": {},
   "source": [
    "# Import data"
   ]
  },
  {
   "cell_type": "code",
   "execution_count": 2,
   "metadata": {},
   "outputs": [
    {
     "name": "stdout",
     "output_type": "stream",
     "text": [
      "           1  1049  972  833  592    3272    1011    297    494    1125  \\\n",
      "0          2  1051  977  828  584  3270.0  1010.0  299.0  496.0  1120.0   \n",
      "1          3  1045  974  838  589  1116.0  1372.0  196.0  158.0  3270.0   \n",
      "2          4  1045  978  838  583  1109.0  1372.0  204.0  158.0  3269.0   \n",
      "3          5  1038  966  848  597  1105.0  1371.0  199.0  160.0  3268.0   \n",
      "4          6  1040  968  818  598  3269.0  1011.0  300.0  491.0  1097.0   \n",
      "...      ...   ...  ...  ...  ...     ...     ...    ...    ...     ...   \n",
      "23087  23089  1981  977  354  482  1985.0   980.0  724.0  570.0  2008.0   \n",
      "23088  23090  1982  970  356  484  2010.0  1254.0  147.0  171.0  1993.0   \n",
      "23089  23091  1997  984  727  566  2011.0  1256.0  156.0  170.0  1987.0   \n",
      "23090  23092  1075  668  696  818  2013.0  1249.0  158.0  182.0  1984.0   \n",
      "23091  23093  1078  662  685  833  2013.0  1245.0  161.0  188.0  1988.0   \n",
      "\n",
      "         1374    183    155  \n",
      "0      1373.0  186.0  157.0  \n",
      "1      1013.0  300.0  492.0  \n",
      "2      1008.0  299.0  495.0  \n",
      "3      1010.0  301.0  492.0  \n",
      "4      1371.0  214.0  159.0  \n",
      "...       ...    ...    ...  \n",
      "23087  1258.0  144.0  166.0  \n",
      "23088   982.0  720.0  568.0  \n",
      "23089   971.0  365.0  483.0  \n",
      "23090   964.0  387.0  512.0  \n",
      "23091   962.0  379.0  507.0  \n",
      "\n",
      "[23092 rows x 13 columns]\n",
      "(23092, 13) (23092, 13)\n"
     ]
    }
   ],
   "source": [
    "X = pd.pandas.read_csv(\"E:/UQAM/Recherche/Code/data/predictions(in).csv\",  names=None)\n",
    "# ['cow L', 'cow T', 'cow W', 'cow H', 'Head L', 'Head T', 'Head W', 'Head H', 'snout L', 'snout R', 'snout W', 'snout H']\n",
    "pprint.pp(X)\n",
    "\n",
    "# X = np.concatenate([X_head, X_snout, X_cow], axis=1)\n",
    "df = pd.DataFrame(X)\n",
    "\n",
    "print(df.shape, X.shape)"
   ]
  },
  {
   "cell_type": "markdown",
   "metadata": {},
   "source": [
    "# Train model"
   ]
  },
  {
   "cell_type": "code",
   "execution_count": 3,
   "metadata": {},
   "outputs": [
    {
     "ename": "ValueError",
     "evalue": "Input contains NaN.",
     "output_type": "error",
     "traceback": [
      "\u001b[1;31m---------------------------------------------------------------------------\u001b[0m",
      "\u001b[1;31mValueError\u001b[0m                                Traceback (most recent call last)",
      "Cell \u001b[1;32mIn[3], line 9\u001b[0m\n\u001b[0;32m      7\u001b[0m \u001b[38;5;28;01mfor\u001b[39;00m idx \u001b[38;5;129;01min\u001b[39;00m \u001b[38;5;28mrange\u001b[39m(\u001b[38;5;241m10\u001b[39m):\n\u001b[0;32m      8\u001b[0m     em_model \u001b[38;5;241m=\u001b[39m hmm\u001b[38;5;241m.\u001b[39mGaussianHMM(n_components\u001b[38;5;241m=\u001b[39mn_components, random_state\u001b[38;5;241m=\u001b[39midx,covariance_type \u001b[38;5;241m=\u001b[39m \u001b[38;5;124m\"\u001b[39m\u001b[38;5;124mfull\u001b[39m\u001b[38;5;124m\"\u001b[39m, n_iter\u001b[38;5;241m=\u001b[39m\u001b[38;5;241m52\u001b[39m)\n\u001b[1;32m----> 9\u001b[0m     \u001b[43mem_model\u001b[49m\u001b[38;5;241;43m.\u001b[39;49m\u001b[43mfit\u001b[49m\u001b[43m(\u001b[49m\u001b[43mdf\u001b[49m\u001b[43m)\u001b[49m\n\u001b[0;32m     10\u001b[0m     em_models\u001b[38;5;241m.\u001b[39mappend(em_model)\n\u001b[0;32m     11\u001b[0m     em_scores\u001b[38;5;241m.\u001b[39mappend(em_model\u001b[38;5;241m.\u001b[39mscore(df))\n",
      "File \u001b[1;32mc:\\Users\\P14s\\AppData\\Local\\Programs\\Python\\Python311\\Lib\\site-packages\\hmmlearn\\base.py:475\u001b[0m, in \u001b[0;36m_AbstractHMM.fit\u001b[1;34m(self, X, lengths)\u001b[0m\n\u001b[0;32m    453\u001b[0m \u001b[38;5;28;01mdef\u001b[39;00m \u001b[38;5;21mfit\u001b[39m(\u001b[38;5;28mself\u001b[39m, X, lengths\u001b[38;5;241m=\u001b[39m\u001b[38;5;28;01mNone\u001b[39;00m):\n\u001b[0;32m    454\u001b[0m \u001b[38;5;250m    \u001b[39m\u001b[38;5;124;03m\"\"\"\u001b[39;00m\n\u001b[0;32m    455\u001b[0m \u001b[38;5;124;03m    Estimate model parameters.\u001b[39;00m\n\u001b[0;32m    456\u001b[0m \n\u001b[1;32m   (...)\u001b[0m\n\u001b[0;32m    473\u001b[0m \u001b[38;5;124;03m        Returns self.\u001b[39;00m\n\u001b[0;32m    474\u001b[0m \u001b[38;5;124;03m    \"\"\"\u001b[39;00m\n\u001b[1;32m--> 475\u001b[0m     X \u001b[38;5;241m=\u001b[39m \u001b[43mcheck_array\u001b[49m\u001b[43m(\u001b[49m\u001b[43mX\u001b[49m\u001b[43m)\u001b[49m\n\u001b[0;32m    477\u001b[0m     \u001b[38;5;28;01mif\u001b[39;00m lengths \u001b[38;5;129;01mis\u001b[39;00m \u001b[38;5;28;01mNone\u001b[39;00m:\n\u001b[0;32m    478\u001b[0m         lengths \u001b[38;5;241m=\u001b[39m np\u001b[38;5;241m.\u001b[39masarray([X\u001b[38;5;241m.\u001b[39mshape[\u001b[38;5;241m0\u001b[39m]])\n",
      "File \u001b[1;32mc:\\Users\\P14s\\AppData\\Local\\Programs\\Python\\Python311\\Lib\\site-packages\\sklearn\\utils\\validation.py:1049\u001b[0m, in \u001b[0;36mcheck_array\u001b[1;34m(array, accept_sparse, accept_large_sparse, dtype, order, copy, force_all_finite, ensure_2d, allow_nd, ensure_min_samples, ensure_min_features, estimator, input_name)\u001b[0m\n\u001b[0;32m   1043\u001b[0m     \u001b[38;5;28;01mraise\u001b[39;00m \u001b[38;5;167;01mValueError\u001b[39;00m(\n\u001b[0;32m   1044\u001b[0m         \u001b[38;5;124m\"\u001b[39m\u001b[38;5;124mFound array with dim \u001b[39m\u001b[38;5;132;01m%d\u001b[39;00m\u001b[38;5;124m. \u001b[39m\u001b[38;5;132;01m%s\u001b[39;00m\u001b[38;5;124m expected <= 2.\u001b[39m\u001b[38;5;124m\"\u001b[39m\n\u001b[0;32m   1045\u001b[0m         \u001b[38;5;241m%\u001b[39m (array\u001b[38;5;241m.\u001b[39mndim, estimator_name)\n\u001b[0;32m   1046\u001b[0m     )\n\u001b[0;32m   1048\u001b[0m \u001b[38;5;28;01mif\u001b[39;00m force_all_finite:\n\u001b[1;32m-> 1049\u001b[0m     \u001b[43m_assert_all_finite\u001b[49m\u001b[43m(\u001b[49m\n\u001b[0;32m   1050\u001b[0m \u001b[43m        \u001b[49m\u001b[43marray\u001b[49m\u001b[43m,\u001b[49m\n\u001b[0;32m   1051\u001b[0m \u001b[43m        \u001b[49m\u001b[43minput_name\u001b[49m\u001b[38;5;241;43m=\u001b[39;49m\u001b[43minput_name\u001b[49m\u001b[43m,\u001b[49m\n\u001b[0;32m   1052\u001b[0m \u001b[43m        \u001b[49m\u001b[43mestimator_name\u001b[49m\u001b[38;5;241;43m=\u001b[39;49m\u001b[43mestimator_name\u001b[49m\u001b[43m,\u001b[49m\n\u001b[0;32m   1053\u001b[0m \u001b[43m        \u001b[49m\u001b[43mallow_nan\u001b[49m\u001b[38;5;241;43m=\u001b[39;49m\u001b[43mforce_all_finite\u001b[49m\u001b[43m \u001b[49m\u001b[38;5;241;43m==\u001b[39;49m\u001b[43m \u001b[49m\u001b[38;5;124;43m\"\u001b[39;49m\u001b[38;5;124;43mallow-nan\u001b[39;49m\u001b[38;5;124;43m\"\u001b[39;49m\u001b[43m,\u001b[49m\n\u001b[0;32m   1054\u001b[0m \u001b[43m    \u001b[49m\u001b[43m)\u001b[49m\n\u001b[0;32m   1056\u001b[0m \u001b[38;5;28;01mif\u001b[39;00m copy:\n\u001b[0;32m   1057\u001b[0m     \u001b[38;5;28;01mif\u001b[39;00m _is_numpy_namespace(xp):\n\u001b[0;32m   1058\u001b[0m         \u001b[38;5;66;03m# only make a copy if `array` and `array_orig` may share memory`\u001b[39;00m\n",
      "File \u001b[1;32mc:\\Users\\P14s\\AppData\\Local\\Programs\\Python\\Python311\\Lib\\site-packages\\sklearn\\utils\\validation.py:126\u001b[0m, in \u001b[0;36m_assert_all_finite\u001b[1;34m(X, allow_nan, msg_dtype, estimator_name, input_name)\u001b[0m\n\u001b[0;32m    123\u001b[0m \u001b[38;5;28;01mif\u001b[39;00m first_pass_isfinite:\n\u001b[0;32m    124\u001b[0m     \u001b[38;5;28;01mreturn\u001b[39;00m\n\u001b[1;32m--> 126\u001b[0m \u001b[43m_assert_all_finite_element_wise\u001b[49m\u001b[43m(\u001b[49m\n\u001b[0;32m    127\u001b[0m \u001b[43m    \u001b[49m\u001b[43mX\u001b[49m\u001b[43m,\u001b[49m\n\u001b[0;32m    128\u001b[0m \u001b[43m    \u001b[49m\u001b[43mxp\u001b[49m\u001b[38;5;241;43m=\u001b[39;49m\u001b[43mxp\u001b[49m\u001b[43m,\u001b[49m\n\u001b[0;32m    129\u001b[0m \u001b[43m    \u001b[49m\u001b[43mallow_nan\u001b[49m\u001b[38;5;241;43m=\u001b[39;49m\u001b[43mallow_nan\u001b[49m\u001b[43m,\u001b[49m\n\u001b[0;32m    130\u001b[0m \u001b[43m    \u001b[49m\u001b[43mmsg_dtype\u001b[49m\u001b[38;5;241;43m=\u001b[39;49m\u001b[43mmsg_dtype\u001b[49m\u001b[43m,\u001b[49m\n\u001b[0;32m    131\u001b[0m \u001b[43m    \u001b[49m\u001b[43mestimator_name\u001b[49m\u001b[38;5;241;43m=\u001b[39;49m\u001b[43mestimator_name\u001b[49m\u001b[43m,\u001b[49m\n\u001b[0;32m    132\u001b[0m \u001b[43m    \u001b[49m\u001b[43minput_name\u001b[49m\u001b[38;5;241;43m=\u001b[39;49m\u001b[43minput_name\u001b[49m\u001b[43m,\u001b[49m\n\u001b[0;32m    133\u001b[0m \u001b[43m\u001b[49m\u001b[43m)\u001b[49m\n",
      "File \u001b[1;32mc:\\Users\\P14s\\AppData\\Local\\Programs\\Python\\Python311\\Lib\\site-packages\\sklearn\\utils\\validation.py:175\u001b[0m, in \u001b[0;36m_assert_all_finite_element_wise\u001b[1;34m(X, xp, allow_nan, msg_dtype, estimator_name, input_name)\u001b[0m\n\u001b[0;32m    158\u001b[0m \u001b[38;5;28;01mif\u001b[39;00m estimator_name \u001b[38;5;129;01mand\u001b[39;00m input_name \u001b[38;5;241m==\u001b[39m \u001b[38;5;124m\"\u001b[39m\u001b[38;5;124mX\u001b[39m\u001b[38;5;124m\"\u001b[39m \u001b[38;5;129;01mand\u001b[39;00m has_nan_error:\n\u001b[0;32m    159\u001b[0m     \u001b[38;5;66;03m# Improve the error message on how to handle missing values in\u001b[39;00m\n\u001b[0;32m    160\u001b[0m     \u001b[38;5;66;03m# scikit-learn.\u001b[39;00m\n\u001b[0;32m    161\u001b[0m     msg_err \u001b[38;5;241m+\u001b[39m\u001b[38;5;241m=\u001b[39m (\n\u001b[0;32m    162\u001b[0m         \u001b[38;5;124mf\u001b[39m\u001b[38;5;124m\"\u001b[39m\u001b[38;5;130;01m\\n\u001b[39;00m\u001b[38;5;132;01m{\u001b[39;00mestimator_name\u001b[38;5;132;01m}\u001b[39;00m\u001b[38;5;124m does not accept missing values\u001b[39m\u001b[38;5;124m\"\u001b[39m\n\u001b[0;32m    163\u001b[0m         \u001b[38;5;124m\"\u001b[39m\u001b[38;5;124m encoded as NaN natively. For supervised learning, you might want\u001b[39m\u001b[38;5;124m\"\u001b[39m\n\u001b[1;32m   (...)\u001b[0m\n\u001b[0;32m    173\u001b[0m         \u001b[38;5;124m\"\u001b[39m\u001b[38;5;124m#estimators-that-handle-nan-values\u001b[39m\u001b[38;5;124m\"\u001b[39m\n\u001b[0;32m    174\u001b[0m     )\n\u001b[1;32m--> 175\u001b[0m \u001b[38;5;28;01mraise\u001b[39;00m \u001b[38;5;167;01mValueError\u001b[39;00m(msg_err)\n",
      "\u001b[1;31mValueError\u001b[0m: Input contains NaN."
     ]
    }
   ],
   "source": [
    "em_scores = list()\n",
    "vi_scores = list()\n",
    "em_models = list()\n",
    "vi_models = list()\n",
    "\n",
    "for n_components in range(2, 10):\n",
    "    for idx in range(10):\n",
    "        em_model = hmm.GaussianHMM(n_components=n_components, random_state=idx,covariance_type = \"full\", n_iter=52)\n",
    "        em_model.fit(df)\n",
    "        em_models.append(em_model)\n",
    "        em_scores.append(em_model.score(df))\n",
    "        # variational inference\n",
    "        vi_model = vhmm.VariationalGaussianHMM(n_components=n_components, random_state=idx, covariance_type='full', n_iter=52)\n",
    "        vi_model.fit(df)\n",
    "        vi_models.append(vi_model)\n",
    "        vi_scores.append(vi_model.score(df))\n",
    "        # ll = em_model.monitor_.history[-1]\n",
    "        \"\"\" print(f\"Training EM({n_components}) Final Log Likelihood={ll} \"\n",
    "              f\"Iterations={len(vi_model.monitor_.history)} \") \"\"\"\n",
    "        # print(f'Converged: {em_model.monitor_.converged}\\t\\t'f'Score: {scores[-1]}')\n",
    "\n",
    "# get the best model\n",
    "em_model = em_models[np.argmax(em_scores)]\n",
    "vi_model = vi_models[np.argmax(vi_scores)]\n",
    "# print(f'The best model had a score of {max(scores)} and 'f'{em_model.n_components} components')\n",
    "\n",
    "\n",
    "em_Z = em_model.predict(X)\n",
    "vi_Z = vi_model.predict(X)\n"
   ]
  },
  {
   "cell_type": "code",
   "execution_count": null,
   "metadata": {},
   "outputs": [],
   "source": [
    "\n",
    "joblib.dump(em_model, 'models/EM/hmm_jennie_model.pkl')\n",
    "joblib.dump(vi_model, 'models/Vi/hmm_jennie_model.pkl')\n",
    "\n",
    "print(em_model.means_)\n",
    "print(len(em_Z)/30)\n",
    "print(vi_model.means_)\n",
    "#print(model.covars_)"
   ]
  },
  {
   "cell_type": "code",
   "execution_count": null,
   "metadata": {},
   "outputs": [],
   "source": [
    "transition_matrix = em_model.transmat_\n",
    "plt.figure(figsize=(5, 4))\n",
    "sns.heatmap(transition_matrix, annot=True, cmap=\"YlGnBu\", cbar=False)\n",
    "plt.title('State Transition Probabilities')\n",
    "plt.xlabel('To State')\n",
    "plt.ylabel('From State')\n",
    "plt.show()"
   ]
  },
  {
   "cell_type": "code",
   "execution_count": null,
   "metadata": {},
   "outputs": [],
   "source": [
    "transition_matrix = vi_model.transmat_\n",
    "plt.figure(figsize=(5, 4))\n",
    "sns.heatmap(transition_matrix, annot=True, cmap=\"YlGnBu\", cbar=False)\n",
    "plt.title('State Transition Probabilities for all three boxes')\n",
    "plt.xlabel('To State')\n",
    "plt.ylabel('From State')\n",
    "plt.show()"
   ]
  },
  {
   "cell_type": "code",
   "execution_count": null,
   "metadata": {},
   "outputs": [],
   "source": [
    "\n",
    "states = pd.DataFrame(em_Z)\n",
    "states.to_csv(\"../INF889E Project/Trained data/EM/jennie_states.csv\")\n",
    "\n",
    "states = pd.DataFrame(vi_Z)\n",
    "states.to_csv(\"../INF889E Project/Trained data/VI/jennie_states.csv\")\n"
   ]
  },
  {
   "cell_type": "code",
   "execution_count": null,
   "metadata": {},
   "outputs": [],
   "source": [
    "# Create a directed graph using NetworkX\n",
    "G = nx.DiGraph()\n",
    "transition_matrix = em_model.transmat_\n",
    "num_states = transition_matrix.shape[0]\n",
    "dic_state = {\n",
    "    1 : 'Resting',\n",
    "    3 : 'Observing',\n",
    "    2 : 'Flight',\n",
    "    0 : 'Reminiscing'\n",
    "}\n",
    "for i in range(num_states):\n",
    "    for j in range(num_states):\n",
    "        prob = transition_matrix[i, j]\n",
    "        if prob > 0:  # Only add edges for non-zero probabilities\n",
    "            G.add_edge(f' {dic_state[i]}', f' {dic_state[j]}', weight=prob)\n",
    "\n",
    "\n",
    "# Use a color palette from seaborn for visual appeal\n",
    "colors = sns.color_palette(\"pastel\", num_states)\n",
    "\n",
    "# Visualize the graph with enhanced aesthetics\n",
    "pos = nx.circular_layout(G)\n",
    "edge_labels = {(n1, n2): f\"{d['weight']:.5f}\" for n1, n2, d in G.edges(data=True)}\n",
    "\n",
    "plt.figure(figsize=(7, 7))\n",
    "nx.draw_networkx_nodes(G, pos, node_size=1000, node_color=colors, node_shape=\"o\", alpha=0.7)\n",
    "nx.draw_networkx_edges(G, pos, width=2, edge_color=\"gray\", arrowsize=20)\n",
    "nx.draw_networkx_labels(G, pos, font_size=8, font_weight='bold')\n",
    "nx.draw_networkx_edge_labels(G, pos, edge_labels=edge_labels, font_color='red', font_size=12)\n",
    "\n",
    "plt.title('Hidden Markov Model Transition States -EM-', fontsize=18)\n",
    "plt.axis('off')\n",
    "plt.show()"
   ]
  },
  {
   "cell_type": "code",
   "execution_count": null,
   "metadata": {},
   "outputs": [],
   "source": [
    "# Create a directed graph using NetworkX\n",
    "G = nx.DiGraph()\n",
    "transition_matrix = vi_model.transmat_\n",
    "num_states = transition_matrix.shape[0]\n",
    "for i in range(num_states):\n",
    "    for j in range(num_states):\n",
    "        prob = transition_matrix[i, j]\n",
    "        if prob > 0:  # Only add edges for non-zero probabilities\n",
    "            G.add_edge(dic_state[i], dic_state[j], weight=prob)\n",
    "\n",
    "# Use a color palette from seaborn for visual appeal\n",
    "colors = sns.color_palette(\"pastel\", num_states)\n",
    "\n",
    "# Visualize the graph with enhanced aesthetics\n",
    "pos = nx.circular_layout(G)\n",
    "edge_labels = {(n1, n2): f\"{d['weight']:.5f}\" for n1, n2, d in G.edges(data=True)}\n",
    "\n",
    "plt.figure(figsize=(7, 7))\n",
    "nx.draw_networkx_nodes(G, pos, node_size=1000, node_color=colors, node_shape=\"o\", alpha=0.7)\n",
    "nx.draw_networkx_edges(G, pos, width=2, edge_color=\"gray\", arrowsize=20)\n",
    "nx.draw_networkx_labels(G, pos, font_size=8, font_weight='bold')\n",
    "nx.draw_networkx_edge_labels(G, pos, edge_labels=edge_labels, font_color='red', font_size=12)\n",
    "\n",
    "plt.title('Hidden Markov Model Transition States -VI-', fontsize=18)\n",
    "plt.axis('off')\n",
    "plt.show()"
   ]
  },
  {
   "cell_type": "code",
   "execution_count": null,
   "metadata": {},
   "outputs": [],
   "source": [
    "states_em = pd.unique(em_Z)\n",
    "print(df['cow H'])\n",
    "plt.subplot(2,2,1)\n",
    "for i in states_em:\n",
    "    x = np.linspace(1,len(df['cow H']),len(df['cow H']))[(em_Z == i)]\n",
    "    y = df['cow H'][(em_Z == i)]\n",
    "    plt.plot(x, y, '.')\n",
    "    plt.title(\"Left\")\n",
    "plt.subplot(2,2,2)\n",
    "for i in states_em:\n",
    "    x = np.linspace(1,len(df['cow L']),len(df['cow L']))[(em_Z == i)]\n",
    "    y = df['cow L'][(em_Z == i)]\n",
    "    plt.plot(x, y, '.')\n",
    "    plt.title(\"Top\")\n",
    "plt.subplot(2,2,3)\n",
    "for i in states_em:\n",
    "    x = np.linspace(1,len(df['cow T']),len(df['cow T']))[(em_Z == i)]\n",
    "    y = df['cow T'][(em_Z == i)]\n",
    "    plt.plot(x, y, '.')\n",
    "    plt.title(\"Width\")\n",
    "plt.subplot(2,2,4)\n",
    "for i in states_em:\n",
    "    x = np.linspace(1,len(df['cow W']),len(df['cow W']))[(em_Z == i)]\n",
    "    y = df['cow W'][(em_Z == i)]\n",
    "    plt.plot(x, y, '.')\n",
    "    plt.title(\"Height\")\n",
    "\n",
    "\n",
    "plt.tight_layout()\n",
    "# plt.legend(labels=state_names, loc=\"lower right\", ncol=1)\n",
    "plt.suptitle('Cow Coordinates (Jenny), EM gaussian')"
   ]
  },
  {
   "cell_type": "code",
   "execution_count": null,
   "metadata": {},
   "outputs": [],
   "source": [
    "states_em = pd.unique(em_Z)\n",
    "plt.subplot(2,2,1)\n",
    "for i in states_em:\n",
    "    x = np.linspace(1,len(df['head H']),len(df['head H']))[(em_Z == i)]\n",
    "    y = df['head H'][(em_Z == i)]\n",
    "    plt.plot(x, y, '.')\n",
    "    plt.title(\"Left\")\n",
    "plt.subplot(2,2,2)\n",
    "for i in states_em:\n",
    "    x = np.linspace(1,len(df['head L']),len(df['head L']))[(em_Z == i)]\n",
    "    y = df['head L'][(em_Z == i)]\n",
    "    plt.plot(x, y, '.')\n",
    "    plt.title(\"Top\")\n",
    "plt.subplot(2,2,3)\n",
    "for i in states_em:\n",
    "    x = np.linspace(1,len(df['head T']),len(df['head T']))[(em_Z == i)]\n",
    "    y = df['head T'][(em_Z == i)]\n",
    "    plt.plot(x, y, '.')\n",
    "    plt.title(\"Width\")\n",
    "plt.subplot(2,2,4)\n",
    "for i in states_em:\n",
    "    x = np.linspace(1,len(df['head W']),len(df['head W']))[(em_Z == i)]\n",
    "    y = df['head W'][(em_Z == i)]\n",
    "    plt.plot(x, y, '.')\n",
    "    plt.title(\"Height\")\n",
    "\n",
    "\n",
    "plt.tight_layout()\n",
    "# plt.legend(labels=state_names, loc=\"lower right\", ncol=1)\n",
    "plt.suptitle('Head Coordinates (Jenny), EM gaussian')"
   ]
  },
  {
   "cell_type": "code",
   "execution_count": null,
   "metadata": {},
   "outputs": [],
   "source": [
    "states_em = pd.unique(em_Z)\n",
    "plt.subplot(2,2,1)\n",
    "for i in states_em:\n",
    "    x = np.linspace(1,len(df['snout H']),len(df['snout H']))[(em_Z == i)]\n",
    "    y = df['snout H'][(em_Z == i)]\n",
    "    plt.plot(x, y, '.')\n",
    "    plt.title(\"Left\")\n",
    "plt.subplot(2,2,2)\n",
    "for i in states_em:\n",
    "    x = np.linspace(1,len(df['snout L']),len(df['snout L']))[(em_Z == i)]\n",
    "    y = df['snout L'][(em_Z == i)]\n",
    "    plt.plot(x, y, '.')\n",
    "    plt.title(\"Top\")\n",
    "plt.subplot(2,2,3)\n",
    "for i in states_em:\n",
    "    x = np.linspace(1,len(df['snout R']),len(df['snout R']))[(em_Z == i)]\n",
    "    y = df['snout R'][(em_Z == i)]\n",
    "    plt.plot(x, y, '.')\n",
    "    plt.title(\"Width\")\n",
    "plt.subplot(2,2,4)\n",
    "for i in states_em:\n",
    "    x = np.linspace(1,len(df['snout W']),len(df['snout W']))[(em_Z == i)]\n",
    "    y = df['snout W'][(em_Z == i)]\n",
    "    plt.plot(x, y, '.')\n",
    "    plt.title(\"Height\")\n",
    "\n",
    "\n",
    "plt.tight_layout()\n",
    "# plt.legend(labels=state_names, loc=\"lower right\", ncol=1)\n",
    "plt.suptitle('Snout Coordinates (Jenny), EM gaussian')"
   ]
  },
  {
   "cell_type": "code",
   "execution_count": null,
   "metadata": {},
   "outputs": [],
   "source": [
    "remodel.monitor_\n",
    "remodel.monitor_.converged\n"
   ]
  }
 ],
 "metadata": {
  "kernelspec": {
   "display_name": "Python 3",
   "language": "python",
   "name": "python3"
  },
  "language_info": {
   "codemirror_mode": {
    "name": "ipython",
    "version": 3
   },
   "file_extension": ".py",
   "mimetype": "text/x-python",
   "name": "python",
   "nbconvert_exporter": "python",
   "pygments_lexer": "ipython3",
   "version": "3.11.8"
  }
 },
 "nbformat": 4,
 "nbformat_minor": 2
}

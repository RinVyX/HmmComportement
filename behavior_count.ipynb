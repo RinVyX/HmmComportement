{
 "cells": [
  {
   "cell_type": "code",
   "execution_count": 1,
   "metadata": {},
   "outputs": [],
   "source": [
    "from hmmlearn import hmm\n",
    "import numpy as np\n",
    "import pandas as pd\n",
    "import matplotlib.pyplot as plt\n",
    "import joblib"
   ]
  },
  {
   "cell_type": "code",
   "execution_count": 47,
   "metadata": {},
   "outputs": [
    {
     "name": "stdout",
     "output_type": "stream",
     "text": [
      "   state  count  frame    seconds\n",
      "0      0    484    484  16.133333\n",
      "1      3     61    545  18.166667\n",
      "2      2    111    656  21.866667\n",
      "3      1     23    679  22.633333\n",
      "4      2    187    866  28.866667\n",
      "5      1    464   1330  44.333333\n",
      "6      2     45   1375  45.833333\n"
     ]
    }
   ],
   "source": [
    "X = pd.DataFrame(pd.pandas.read_csv(\"../data/3Boxes_coords.csv\", names=['Gauche_head', 'Haut_head', 'Largeur_head', 'Longeur_head', 'Gauche_snout', 'Haut_snout', 'Largeur_snout', 'Longeur_snout', 'Gauche_cow', 'Haut_cow', 'Largeur_cow', 'Longeur_cow']))\n",
    "X = X.drop(index=X.index[0])\n",
    "model_3boxes = joblib.load('models/EM/hmm_model_head_snout_cow.pkl')\n",
    "hidden_states = model_3boxes.predict(X)\n",
    "hidden_states_count = pd.DataFrame(hidden_states, columns=['values'])\n",
    "# print(hidden_states_count)\n",
    "hidden_states_counted = hidden_states_count.groupby([hidden_states_count['values'].ne(hidden_states_count['values'].shift()).cumsum(), 'values']).size()\n",
    "\n",
    "data = {\n",
    "    'state': [0, 3, 2, 1, 2, 1, 2],\n",
    "    'count': [484, 61, 111, 23, 187, 464, 45]\n",
    "}\n",
    "df = pd.DataFrame(data)\n",
    "\n",
    "df['frame'] = df['count'].cumsum()\n",
    "df['seconds'] = df['frame']/30\n",
    "\n",
    "print(df)"
   ]
  },
  {
   "cell_type": "code",
   "execution_count": 66,
   "metadata": {},
   "outputs": [
    {
     "name": "stdout",
     "output_type": "stream",
     "text": [
      "<class 'pandas.core.series.Series'>\n"
     ]
    }
   ],
   "source": [
    "behavior = pd.pandas.read_csv(\"E:/UQAM/INF889E/projet/Recherche/Data/emotion_analyses/emotion_analyses/NOT_Lou_annotations.csv\", header=None)\n",
    "\n",
    "new_columns = behavior[0].str.split(',', expand=True)\n",
    "\n",
    "behavior[new_columns.columns] = new_columns\n",
    "\n",
    "behavior = behavior.drop(columns=[0])\n",
    "temps_annotation = behavior[[5, 11]].drop(behavior.index[0])\n",
    "annotation = pd.DataFrame(temps_annotation)\n",
    "annotation = annotation.replace(\"00:00:\", \"\", regex=True)\n",
    "\n",
    "print(type(annotation[5]))"
   ]
  },
  {
   "cell_type": "code",
   "execution_count": null,
   "metadata": {},
   "outputs": [],
   "source": [
    "for i in range(0, len(df)):\n",
    "    for j in range(0, len(annotation)):\n",
    "        if j <= df['frame']:\n",
    "            df['behavior'] = df['behavior'].append(annotation[5])\n",
    "# LINAAAAAA u finish it today"
   ]
  }
 ],
 "metadata": {
  "kernelspec": {
   "display_name": "Python 3",
   "language": "python",
   "name": "python3"
  },
  "language_info": {
   "codemirror_mode": {
    "name": "ipython",
    "version": 3
   },
   "file_extension": ".py",
   "mimetype": "text/x-python",
   "name": "python",
   "nbconvert_exporter": "python",
   "pygments_lexer": "ipython3",
   "version": "3.11.8"
  }
 },
 "nbformat": 4,
 "nbformat_minor": 2
}

{
 "cells": [
  {
   "cell_type": "code",
   "execution_count": 1,
   "metadata": {},
   "outputs": [],
   "source": [
    "from hmmlearn import hmm\n",
    "import numpy as np\n",
    "import pandas as pd\n",
    "import matplotlib.pyplot as plt\n",
    "import joblib\n",
    "from collections import Counter"
   ]
  },
  {
   "cell_type": "code",
   "execution_count": 2,
   "metadata": {},
   "outputs": [
    {
     "name": "stdout",
     "output_type": "stream",
     "text": [
      "   state  count  frame    seconds\n",
      "0      0    484    484  16.133333\n",
      "1      3     61    545  18.166667\n",
      "2      2    111    656  21.866667\n",
      "3      1     23    679  22.633333\n",
      "4      2    187    866  28.866667\n",
      "5      1    464   1330  44.333333\n",
      "6      2     45   1375  45.833333\n"
     ]
    }
   ],
   "source": [
    "X = pd.DataFrame(pd.pandas.read_csv(\"../data/3Boxes_coords.csv\", names=['Gauche_head', 'Haut_head', 'Largeur_head', 'Longeur_head', 'Gauche_snout', 'Haut_snout', 'Largeur_snout', 'Longeur_snout', 'Gauche_cow', 'Haut_cow', 'Largeur_cow', 'Longeur_cow']))\n",
    "X = X.drop(index=X.index[0])\n",
    "model_3boxes = joblib.load('models/EM/hmm_model_head_snout_cow.pkl')\n",
    "hidden_states = model_3boxes.predict(X)\n",
    "hidden_states_count = pd.DataFrame(hidden_states, columns=['values'])\n",
    "# print(hidden_states_count)\n",
    "hidden_states_counted = hidden_states_count.groupby([hidden_states_count['values'].ne(hidden_states_count['values'].shift()).cumsum(), 'values']).size()\n",
    "\n",
    "data = {\n",
    "    'state': [0, 3, 2, 1, 2, 1, 2],\n",
    "    'count': [484, 61, 111, 23, 187, 464, 45]\n",
    "}\n",
    "df = pd.DataFrame(data)\n",
    "\n",
    "df['frame'] = df['count'].cumsum()\n",
    "df['seconds'] = df['frame']/30\n",
    "\n",
    "print(df)"
   ]
  },
  {
   "cell_type": "code",
   "execution_count": 3,
   "metadata": {},
   "outputs": [
    {
     "name": "stdout",
     "output_type": "stream",
     "text": [
      "True\n",
      "    5                      11\n",
      "1   00              No Object\n",
      "2   00        Eating/drinking\n",
      "3   00                     No\n",
      "4   00              No object\n",
      "5   00       Ears not visible\n",
      "..  ..                    ...\n",
      "70  45  Not looking at object\n",
      "71  45         No interaction\n",
      "72  45       Resting/inactive\n",
      "73  45                    Yes\n",
      "74  45               >2 heads\n",
      "\n",
      "[74 rows x 2 columns]\n"
     ]
    }
   ],
   "source": [
    "behavior = pd.pandas.read_csv(\"E:/UQAM/INF889E/projet/Recherche/Data/emotion_analyses/emotion_analyses/NOT_Lou_annotations.csv\", header=None)\n",
    "\n",
    "new_columns = behavior[0].str.split(',', expand=True)\n",
    "\n",
    "behavior[new_columns.columns] = new_columns\n",
    "\n",
    "behavior = behavior.drop(columns=[0])\n",
    "temps_annotation = behavior[[5, 11]].drop(behavior.index[0])\n",
    "annotation = pd.DataFrame(temps_annotation)\n",
    "annotation = annotation.replace(\"00:00:\", \"\", regex=True)\n",
    "\n",
    "print(str(annotation[5][1]) <= '00')\n",
    "print(annotation)"
   ]
  },
  {
   "cell_type": "code",
   "execution_count": 4,
   "metadata": {},
   "outputs": [],
   "source": [
    "# Ethogram\n",
    "novel_object = [\"Approach\" \"Move away/standing up\", \"Sniff\", \"Push/bite\", \"Object starts descent\", \"Object ends descent\", \"No object\", \"No interaction\"]\n",
    "normal_behaviours = [\"Sleeping\", \"Eating/Drinking\", \"Exploration\", \"Social Interaction\", \"Resting/Inactive\", \"Standing up\", \"Lying down\", \"Scratching/Grooming\", \"Other\"]\n",
    "Rumination = [\"Yes\", \"No\", \"Not visible\"]\n",
    "Distances = [\"< 1 head\", \"1 to 2 heads\", \"> 2 heads\", \"Stretched maximum\", \"No object\"] \n",
    "Ear_Position = [\"Facing forward\", \"Ears not visible\", \"Other ear position\"]\n",
    "Other_behaviours = [\"Looking at object\", \"Not looking at object\", \"No object\"] "
   ]
  },
  {
   "cell_type": "code",
   "execution_count": 5,
   "metadata": {},
   "outputs": [
    {
     "name": "stdout",
     "output_type": "stream",
     "text": [
      "   state  count  frame    seconds  No Object  Eating/drinking   No  No object  \\\n",
      "0      0    484    484  16.133333        2.0              1.0  1.0        2.0   \n",
      "1      3     61    545  18.166667        NaN              NaN  NaN        NaN   \n",
      "2      2    111    656  21.866667        NaN              NaN  1.0        NaN   \n",
      "3      1     23    679  22.633333        NaN              NaN  NaN        NaN   \n",
      "4      2    187    866  28.866667        NaN              NaN  NaN        NaN   \n",
      "5      1    464   1330  44.333333        NaN              NaN  NaN        NaN   \n",
      "6      2     45   1375  45.833333        NaN              NaN  NaN        NaN   \n",
      "\n",
      "   Ears not visible  No objects  ...  Move away/stand up  Resting/inactive  \\\n",
      "0               2.0         2.0  ...                 NaN               NaN   \n",
      "1               NaN         NaN  ...                 1.0               NaN   \n",
      "2               1.0         NaN  ...                 1.0               1.0   \n",
      "3               NaN         NaN  ...                 NaN               NaN   \n",
      "4               3.0         NaN  ...                 NaN               NaN   \n",
      "5               1.0         NaN  ...                 NaN               NaN   \n",
      "6               NaN         NaN  ...                 NaN               NaN   \n",
      "\n",
      "   Yes  Object STOPS descent  novel_object  normal_behaviours  Rumination  \\\n",
      "0  NaN                   NaN           3.0                0.0         1.0   \n",
      "1  NaN                   NaN           1.0                1.0         0.0   \n",
      "2  1.0                   1.0           1.0                1.0         2.0   \n",
      "3  NaN                   NaN           0.0                0.0         0.0   \n",
      "4  NaN                   NaN           0.0                0.0         0.0   \n",
      "5  NaN                   NaN           0.0                0.0         0.0   \n",
      "6  NaN                   NaN           NaN                NaN         NaN   \n",
      "\n",
      "   Distances  Ear_Position  Other_behaviours  \n",
      "0        5.0           7.0               5.0  \n",
      "1        0.0           2.0               0.0  \n",
      "2        0.0           4.0               0.0  \n",
      "3        0.0           0.0               0.0  \n",
      "4        0.0           8.0               0.0  \n",
      "5        0.0           2.0               3.0  \n",
      "6        NaN           NaN               NaN  \n",
      "\n",
      "[7 rows x 30 columns]\n"
     ]
    }
   ],
   "source": [
    "count_detail = []\n",
    "behavior = []\n",
    "j = 0\n",
    "\n",
    "for i in range(len(df)):\n",
    "    temp_list = []\n",
    "    while j < len(annotation):\n",
    "        j+=1\n",
    "        if str(annotation[5][j]) < str(df['seconds'].iloc[i]):\n",
    "            temp_list.append(annotation[11][j])\n",
    "        else:\n",
    "            count = Counter(temp_list)\n",
    "            count_dict = dict(count)\n",
    "            count_detail.append(count)\n",
    "                        \n",
    "            grouped_counts = {\n",
    "                \"novel_object\": sum(count.get(word, 0) for word in novel_object),\n",
    "                \"normal_behaviours\": sum(count.get(word, 0) for word in normal_behaviours),\n",
    "                \"Rumination\": sum(count.get(word, 0) for word in Rumination),\n",
    "                \"Distances\": sum(count.get(word, 0) for word in Distances),\n",
    "                \"Ear_Position\": sum(count.get(word, 0) for word in Ear_Position),\n",
    "                \"Other_behaviours\": sum(count.get(word, 0) for word in Other_behaviours)\n",
    "            }\n",
    "            behavior.append(grouped_counts)\n",
    "\n",
    "\n",
    "            \"\"\" if i == 2:\n",
    "                count_detail.append({'none'})\n",
    "                behavior.append({'none'}) \"\"\"\n",
    "\n",
    "            break\n",
    "        \n",
    "\n",
    "count_detail_df = pd.DataFrame(count_detail)\n",
    "behavior_df = pd.DataFrame(behavior)\n",
    "\n",
    "df = pd.concat([df, count_detail_df, behavior_df], axis=1)\n",
    "\n",
    "\n",
    "print(df)\n",
    "\n"
   ]
  },
  {
   "cell_type": "code",
   "execution_count": 6,
   "metadata": {},
   "outputs": [],
   "source": [
    "df.to_csv(\"../INF889E Project/Trained data/behavior_3box_hmm.csv\")"
   ]
  }
 ],
 "metadata": {
  "kernelspec": {
   "display_name": "Python 3",
   "language": "python",
   "name": "python3"
  },
  "language_info": {
   "codemirror_mode": {
    "name": "ipython",
    "version": 3
   },
   "file_extension": ".py",
   "mimetype": "text/x-python",
   "name": "python",
   "nbconvert_exporter": "python",
   "pygments_lexer": "ipython3",
   "version": "3.11.8"
  }
 },
 "nbformat": 4,
 "nbformat_minor": 2
}

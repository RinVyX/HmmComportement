{
 "cells": [
  {
   "cell_type": "code",
   "execution_count": 10,
   "metadata": {},
   "outputs": [],
   "source": [
    "import csv\n",
    "import cv2\n",
    "import numpy as np\n",
    "\n",
    "# Load the HMM state list (one entry per video frame)\n",
    "state_labels = labels = []\n",
    "with open('../INF889E Project/Trained data/EM/head_Snout_cow_coords_hmmstates.csv', 'r') as file:\n",
    "    reader = csv.reader(file)\n",
    "    next(reader)  # Skip the header\n",
    "    for row in reader:\n",
    "        if len(row) > 1:\n",
    "            state_labels.append(float(row[1]))\n",
    "            labels.append(row[2])\n",
    "Ns = len(state_labels)\n",
    "\n",
    "\n",
    "v = cv2.VideoCapture('../data/cow_with_3-boxes.mp4')\n",
    "Nf = int(v.get(cv2.CAP_PROP_FRAME_COUNT))\n",
    "\n",
    "\n",
    "video = cv2.VideoWriter(\"../data/cow_annotated_using_3-boxes.mp4\", cv2.VideoWriter_fourcc(*'mp4v'), 30, (1280, 720))\n",
    "\n",
    "for f in range(Nf):\n",
    "    ret, frame = v.read()\n",
    "    if not ret:\n",
    "        break\n",
    "\n",
    "    cv2.putText(frame, f'State {labels[f+1]}', (750, 500), cv2.FONT_HERSHEY_SIMPLEX, 1, (0, 0, 255), 2)\n",
    "\n",
    "    video.write(frame)\n",
    "\n",
    "video.release()\n",
    "v.release()\n",
    "cv2.destroyAllWindows()\n"
   ]
  }
 ],
 "metadata": {
  "kernelspec": {
   "display_name": "Python 3",
   "language": "python",
   "name": "python3"
  },
  "language_info": {
   "codemirror_mode": {
    "name": "ipython",
    "version": 3
   },
   "file_extension": ".py",
   "mimetype": "text/x-python",
   "name": "python",
   "nbconvert_exporter": "python",
   "pygments_lexer": "ipython3",
   "version": "3.11.8"
  }
 },
 "nbformat": 4,
 "nbformat_minor": 2
}

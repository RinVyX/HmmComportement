{
 "cells": [
  {
   "cell_type": "code",
   "execution_count": 32,
   "metadata": {},
   "outputs": [],
   "source": [
    "import csv\n",
    "import cv2\n",
    "import numpy as np\n",
    "import pandas as pd"
   ]
  },
  {
   "cell_type": "code",
   "execution_count": 33,
   "metadata": {},
   "outputs": [
    {
     "name": "stdout",
     "output_type": "stream",
     "text": [
      "0.166457\n"
     ]
    }
   ],
   "source": [
    "# load results\n",
    "state_labels = pd.read_csv('../../Thomas/data/snout_coords_hmmstates.csv')['states'].tolist()\n",
    "coordinates_box = pd.read_csv('../data/cow_coords.csv', names=['x1', 'y2', 'w', 'h'])\n",
    "coordinates_box = pd.DataFrame(coordinates_box)\n",
    "print(coordinates_box['x1'][0])\n",
    "# print(state_labels)"
   ]
  },
  {
   "cell_type": "code",
   "execution_count": 34,
   "metadata": {},
   "outputs": [
    {
     "name": "stdout",
     "output_type": "stream",
     "text": [
      "1458\n",
      "786\n"
     ]
    }
   ],
   "source": [
    "# read video of the cow\n",
    "video_path = '../data/cow_with_3-boxes.mp4'\n",
    "video = cv2.VideoCapture(video_path)\n",
    "\n",
    "# get video properties\n",
    "fps = video.get(cv2.CAP_PROP_FPS)\n",
    "width = int(video.get(cv2.CAP_PROP_FRAME_WIDTH))\n",
    "height = int(video.get(cv2.CAP_PROP_FRAME_HEIGHT))\n",
    "\n",
    "\n",
    "# define the codec and create a VideoWriter object\n",
    "codecc = cv2.VideoWriter_fourcc(*'mp4v')\n",
    "output_video = cv2.VideoWriter('HMM_labeled_snout.mp4', codecc, fps, (width, height))\n",
    "\n",
    "print(width)\n",
    "print(height)"
   ]
  },
  {
   "cell_type": "code",
   "execution_count": 35,
   "metadata": {},
   "outputs": [],
   "source": [
    "\n",
    "# process each frame and add state labels\n",
    "frame_count = 0\n",
    "while True:\n",
    "    ret, frame = video.read()\n",
    "    if not ret:\n",
    "        break  # video ends\n",
    "    \n",
    "\n",
    "    # Calculate the position for the text just under the rectangle\n",
    "    text_x = (coordinates_box['x1'][frame_count]*100).astype(int)  # Adjust this based on the position of the rectangle\n",
    "    text_y = ((coordinates_box['h'][frame_count] - coordinates_box['y2'][frame_count])*500).astype(int)     # Adjust the offset as needed\n",
    "    # print(text_x, '  ', text_y)\n",
    "    # print(coordinates_box['x1'][frame_count]*1000, '  ', coordinates_box['x1'][frame_count].astype(int)*1000)\n",
    "    \n",
    "    # Add state label to the frame just under the rectangle\n",
    "    state_label = state_labels[frame_count] if frame_count < len(state_labels) else 'N/A'\n",
    "    cv2.putText(frame, f'State {state_label}', (text_x, text_y), cv2.FONT_HERSHEY_SIMPLEX, 1, (0, 0, 255), 2)\n",
    "\n",
    "    # Write the frame to the output video\n",
    "    output_video.write(frame)\n",
    "\n",
    "    frame_count += 1\n",
    "\n",
    "# Release video objects\n",
    "video.release()\n",
    "output_video.release()\n",
    "cv2.destroyAllWindows()\n"
   ]
  },
  {
   "cell_type": "code",
   "execution_count": null,
   "metadata": {},
   "outputs": [],
   "source": []
  }
 ],
 "metadata": {
  "kernelspec": {
   "display_name": "Python 3",
   "language": "python",
   "name": "python3"
  },
  "language_info": {
   "codemirror_mode": {
    "name": "ipython",
    "version": 3
   },
   "file_extension": ".py",
   "mimetype": "text/x-python",
   "name": "python",
   "nbconvert_exporter": "python",
   "pygments_lexer": "ipython3",
   "version": "3.11.8"
  }
 },
 "nbformat": 4,
 "nbformat_minor": 2
}
